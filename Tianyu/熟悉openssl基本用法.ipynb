{
 "cells": [
  {
   "cell_type": "code",
   "execution_count": 1,
   "metadata": {},
   "outputs": [],
   "source": [
    "#生成 RSA 密钥对\n",
    "from OpenSSL import crypto\n",
    "\n",
    "# 生成密钥对\n",
    "key = crypto.PKey()\n",
    "key.generate_key(crypto.TYPE_RSA, 2048)\n",
    "\n",
    "# 保存私钥\n",
    "with open(\"private_key.pem\", \"wb\") as f:\n",
    "    f.write(crypto.dump_privatekey(crypto.FILETYPE_PEM, key))\n",
    "\n",
    "# 保存公钥\n",
    "with open(\"public_key.pem\", \"wb\") as f:\n",
    "    f.write(crypto.dump_publickey(crypto.FILETYPE_PEM, key))\n"
   ]
  },
  {
   "cell_type": "code",
   "execution_count": 2,
   "metadata": {},
   "outputs": [],
   "source": [
    "#创建自签名证书\n",
    "from OpenSSL import crypto\n",
    "from datetime import datetime\n",
    "\n",
    "# 创建证书对象\n",
    "cert = crypto.X509()\n",
    "\n",
    "# 设置证书的属性\n",
    "cert.get_subject().C = \"CN\" # 国家\n",
    "cert.get_subject().ST = \"Beijing\" # 省份\n",
    "cert.get_subject().L = \"Beijing\" # 城市\n",
    "cert.get_subject().O = \"My Organization\" # 组织\n",
    "cert.get_subject().OU = \"My Unit\" # 组织单位\n",
    "cert.get_subject().CN = \"localhost\" # 通用名称\n",
    "\n",
    "# 设置证书的序列号和有效期\n",
    "cert.set_serial_number(1000) # 序列号\n",
    "cert.gmtime_adj_notBefore(0) # 有效期起始时间\n",
    "cert.gmtime_adj_notAfter(365*24*60*60)  # 有效期结束时间 365天\n",
    "\n",
    "# 设置公钥\n",
    "cert.set_pubkey(key)\n",
    "\n",
    "# 自签名\n",
    "cert.sign(key, \"sha256\")\n",
    "\n",
    "# 保存证书\n",
    "with open(\"certificate.crt\", \"wb\") as f:\n",
    "    f.write(crypto.dump_certificate(crypto.FILETYPE_PEM, cert))\n"
   ]
  },
  {
   "cell_type": "code",
   "execution_count": null,
   "metadata": {},
   "outputs": [],
   "source": [
    "#加密和解密数据\n",
    "\"\"\"pyOpenSSL 主要用于处理证书和密钥管理，直接进行数据加密和解密的功能有限。对于数据的加解密，我们使用 cryptography 库。\"\"\"\n",
    "from cryptography.hazmat.primitives import serialization\n",
    "from cryptography.hazmat.primitives.asymmetric import padding\n",
    "from cryptography.hazmat.primitives import hashes\n",
    "\n",
    "# 加载公钥\n",
    "with open(\"public_key.pem\", \"rb\") as f:\n",
    "    public_key = serialization.load_pem_public_key(f.read())\n",
    "\n",
    "# 加密数据\n",
    "message = b\"Hello, OpenSSL!\"\n",
    "ciphertext = public_key.encrypt(\n",
    "    message,\n",
    "    padding.OAEP(\n",
    "        mgf=padding.MGF1(algorithm=hashes.SHA256()),# 生成函数 mgf\n",
    "        algorithm=hashes.SHA256(), # 哈希算法\n",
    "        label=None # 标签\n",
    "    )\n",
    ")\n",
    "\n",
    "# 加载私钥\n",
    "with open(\"private_key.pem\", \"rb\") as f:\n",
    "    private_key = serialization.load_pem_private_key(f.read(), password=None) # 无密码\n",
    "\n",
    "# 解密数据\n",
    "plaintext = private_key.decrypt(\n",
    "    ciphertext,\n",
    "    padding.OAEP(\n",
    "        mgf=padding.MGF1(algorithm=hashes.SHA256()),\n",
    "        algorithm=hashes.SHA256(),\n",
    "        label=None\n",
    "    )\n",
    ")\n",
    "\n",
    "print(plaintext.decode())\n",
    "\n"
   ]
  }
 ],
 "metadata": {
  "kernelspec": {
   "display_name": "openssl",
   "language": "python",
   "name": "python3"
  },
  "language_info": {
   "codemirror_mode": {
    "name": "ipython",
    "version": 3
   },
   "file_extension": ".py",
   "mimetype": "text/x-python",
   "name": "python",
   "nbconvert_exporter": "python",
   "pygments_lexer": "ipython3",
   "version": "3.8.20"
  }
 },
 "nbformat": 4,
 "nbformat_minor": 2
}
