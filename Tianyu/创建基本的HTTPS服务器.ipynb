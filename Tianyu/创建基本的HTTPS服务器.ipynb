{
 "cells": [
  {
   "cell_type": "markdown",
   "metadata": {},
   "source": [
    "1. 生成测试证书\n",
    "要实现 HTTPS，我们需要一个 SSL 证书 和 私钥，可以用 OpenSSL 生成（这一步在终端进行）\n",
    "openssl req -x509 -newkey rsa:2048 -keyout server.key -out server.crt -days 365 -nodes\n"
   ]
  },
  {
   "cell_type": "code",
   "execution_count": null,
   "metadata": {},
   "outputs": [],
   "source": [
    "import socket\n",
    "import ssl\n",
    "HOST = '127.0.0.1' \n",
    "PORT = 4433  # 选用非特权端口\n",
    "\n",
    "context = ssl.SSLContext(ssl.PROTOCOL_TLS_SERVER)\n",
    "context.load_cert_chain(certfile=\"server.crt\", keyfile=\"server.key\")\n",
    "\n",
    "server_socket = socket.socket(socket.AF_INET, socket.SOCK_STREAM)\n",
    "server_socket.bind((HOST, PORT))\n",
    "server_socket.listen(5)\n",
    "\n",
    "with context.wrap_socket(server_socket, server_side=True) as secure_sock:\n",
    "    print(f\"HTTPS Server listening on {HOST}:{PORT}...\")\n",
    "\n",
    "    while True:\n",
    "        client_socket, addr = secure_sock.accept()\n",
    "        print(f\"TLS connection from {addr}\")\n",
    "        client_socket.sendall(b\"TLS handshake successful!\\n\")\n",
    "        client_socket.close()\n",
    "\n",
    "def handle_request(client_socket):\n",
    "    request = client_socket.recv(1024).decode('utf-8')\n",
    "    print(f\"Received request:\\n{request}\")\n",
    "\n",
    "    response = \"\"\"\\\n",
    "HTTP/1.1 200 OK\n",
    "Content-Type: text/html\n",
    "\n",
    "<html><body><h1>HTTPS Server Running</h1></body></html>\n",
    "\"\"\"\n",
    "    client_socket.sendall(response.encode('utf-8'))\n",
    "    client_socket.close()\n",
    "\n",
    "while True:\n",
    "    client_socket, addr = secure_sock.accept()\n",
    "    print(f\"TLS connection from {addr}\")\n",
    "    handle_request(client_socket)\n"
   ]
  },
  {
   "cell_type": "code",
   "execution_count": null,
   "metadata": {},
   "outputs": [],
   "source": []
  }
 ],
 "metadata": {
  "kernelspec": {
   "display_name": "openssl",
   "language": "python",
   "name": "python3"
  },
  "language_info": {
   "codemirror_mode": {
    "name": "ipython",
    "version": 3
   },
   "file_extension": ".py",
   "mimetype": "text/x-python",
   "name": "python",
   "nbconvert_exporter": "python",
   "pygments_lexer": "ipython3",
   "version": "3.8.20"
  }
 },
 "nbformat": 4,
 "nbformat_minor": 2
}
